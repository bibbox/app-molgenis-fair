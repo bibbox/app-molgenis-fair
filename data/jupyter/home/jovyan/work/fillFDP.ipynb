{
 "cells": [
  {
   "cell_type": "markdown",
   "id": "6d56896a-17a7-472a-83b0-aa2f63b5a8f4",
   "metadata": {},
   "source": [
    "# Fill the FDP with relevant data from the Molgenis\n",
    "\n",
    "## `Todo` further discribtions\n",
    "\n",
    "This Jupyter notebook takes information regarding catalogs, datasets and distributions from a Molgenis instance and adds it to a Fair Data Point. \n",
    "\n",
    "The information from the Molgenis instance must be present in a FDP table, following the schema shown in the template files. (TODO @PN)"
   ]
  },
  {
   "cell_type": "markdown",
   "id": "2f39b2e0-c40b-49e3-91da-cdf4494c87b7",
   "metadata": {
    "tags": []
   },
   "source": [
    "## API Libraries \n",
    "### Molgenis\n",
    "[Documentation](https://molgenis.gitbook.io/molgenis/interoperability/guide-client-python)\n",
    "\n",
    "[PyPI](https://pypi.org/project/molgenis-py-client/)\n",
    "\n",
    "### FDP our own\n",
    "[Code](https://github.com/bibbox/fdpAPIconnector.py)\n",
    "\n",
    "[PyPI](https://pypi.org/project/fdpAPIconnector/)"
   ]
  },
  {
   "cell_type": "code",
   "execution_count": 69,
   "id": "50dbf30e-ac79-4fe1-aab8-d01adfadc402",
   "metadata": {},
   "outputs": [
    {
     "name": "stdout",
     "output_type": "stream",
     "text": [
      "Requirement already satisfied: rdflib in /opt/conda/lib/python3.9/site-packages (6.1.1)\n",
      "Requirement already satisfied: requests in /opt/conda/lib/python3.9/site-packages (2.27.1)\n",
      "Requirement already satisfied: fdpAPIconnector in /opt/conda/lib/python3.9/site-packages (0.0.4)\n",
      "Requirement already satisfied: molgenis-py-client in /opt/conda/lib/python3.9/site-packages (2.3.1)\n",
      "Requirement already satisfied: setuptools in /opt/conda/lib/python3.9/site-packages (from rdflib) (62.1.0)\n",
      "Requirement already satisfied: pyparsing in /opt/conda/lib/python3.9/site-packages (from rdflib) (3.0.8)\n",
      "Requirement already satisfied: isodate in /opt/conda/lib/python3.9/site-packages (from rdflib) (0.6.1)\n",
      "Requirement already satisfied: idna<4,>=2.5 in /opt/conda/lib/python3.9/site-packages (from requests) (3.3)\n",
      "Requirement already satisfied: urllib3<1.27,>=1.21.1 in /opt/conda/lib/python3.9/site-packages (from requests) (1.26.9)\n",
      "Requirement already satisfied: certifi>=2017.4.17 in /opt/conda/lib/python3.9/site-packages (from requests) (2021.10.8)\n",
      "Requirement already satisfied: charset-normalizer~=2.0.0 in /opt/conda/lib/python3.9/site-packages (from requests) (2.0.12)\n",
      "Requirement already satisfied: six in /opt/conda/lib/python3.9/site-packages (from isodate->rdflib) (1.16.0)\n",
      "Note: you may need to restart the kernel to use updated packages.\n"
     ]
    }
   ],
   "source": [
    "pip install rdflib requests fdpAPIconnector molgenis-py-client"
   ]
  },
  {
   "cell_type": "code",
   "execution_count": 70,
   "id": "112cf84f-99be-442e-916e-f28d67e7fe73",
   "metadata": {},
   "outputs": [],
   "source": [
    "# imports\n",
    "import requests\n",
    "import rdflib\n",
    "import molgenis.client as mg\n",
    "from fdpAPIconnector.fdpclient import FDPClient\n",
    "import json"
   ]
  },
  {
   "cell_type": "markdown",
   "id": "2ca257e8-331c-40e6-b4ee-17d64299a0a8",
   "metadata": {},
   "source": [
    "## Get relevent Env variables URLS, Logins etc."
   ]
  },
  {
   "cell_type": "code",
   "execution_count": 61,
   "id": "6bc73570-56a4-4333-a422-c232276033ae",
   "metadata": {},
   "outputs": [],
   "source": [
    "# TODO EJ (einheitlich für alle apps)\n",
    "# TODO PN (für docker molgenis umbauen)\n",
    "\n",
    "# FDP ()\n",
    "fdp_baseurl = \"http://bibbox-molgenis-fair-fdp-client:80\"\n",
    "# fdp_email = \"abmin@FDP.org\"\n",
    "# fdp_password = \"password\"\n",
    "fdp_api_key = \"rEuD5N1eNdZIDPbgLXiiO7pIEwuOdfYygvbMpgCwRmp3OxRttQsszyfFa8vJpesf6Gpa17OFhHxE06ywRWOHD9UnL54sDZRWF8KotU1WNh81a5NZEA3OejAcHWU7B19V\"\n",
    "fdp_catalog_isPartOf = 'http://localhost:8088'\n",
    "\n",
    "# MOLGENIS\n",
    "molgenis_fdp_base_url = \"http://bibbox-molgenis-frontend/api/fdp/\"\n",
    "# molgenis_fdp_base_url = \"http://molgenis-fdp.silicolabv4.bibbox.org/api/fdp/\"\n",
    "molgenis_fdp_package_catalog = 'fdp_Catalog'\n",
    "molgenis_fdp_package_dataset = 'fdp_Dataset'\n",
    "molgenis_fdp_package_distribution = 'fdp_Distribution'\n",
    "molgenis_api_base_url = \"http://bibbox-molgenis-frontend/api/\"\n",
    "# molgenis_api_base_url = \"http://molgenis-fdp.silicolabv4.bibbox.org/api/\"\n",
    "molgenis_user = \"admin\"\n",
    "molgenis_pswd = \"admin\""
   ]
  },
  {
   "cell_type": "markdown",
   "id": "1e24e31b-9f9b-4c88-a83a-827fbecea66e",
   "metadata": {
    "jp-MarkdownHeadingCollapsed": true,
    "tags": []
   },
   "source": [
    "## Define Helper Functions"
   ]
  },
  {
   "cell_type": "code",
   "execution_count": 62,
   "id": "3b21b146-7602-461f-a2fc-499c04d45bc0",
   "metadata": {},
   "outputs": [],
   "source": [
    "def parse_response(data, format='turtle'):\n",
    "    g = rdflib.Graph()\n",
    "    g.parse(data=data, format=format)\n",
    "    return g\n",
    "\n",
    "\n",
    "def add_isPartOf(graph, id, isPartOf, namespace = rdflib.namespace.DCTERMS.isPartOf):\n",
    "    try:\n",
    "        return graph.add((id, namespace, isPartOf))\n",
    "    except Exception as e:\n",
    "        print(f\"Could not add isPartOf attribute. {e}\")\n",
    "\n",
    "\n",
    "def get_entity_from_molgenis_fdp(entity_id):\n",
    "    r = requests.get(entity_id)\n",
    "    if r.ok:\n",
    "        return parse_response(r.text)\n",
    "    else:\n",
    "        print(f\"## Error. Could not retrieve entity {entity_id} from fdp endpoint.\")\n",
    "\n",
    "\n",
    "def create_fdp_catalog(catalog_id, graph):\n",
    "    catalog_URI = rdflib.URIRef(catalog_id)\n",
    "    isPartOf = rdflib.URIRef(fdp_catalog_isPartOf)\n",
    "    graph = add_isPartOf(graph, catalog_URI, isPartOf)\n",
    "    try:\n",
    "        return fdpclient.create(type='catalog', data=graph.serialize())\n",
    "    except Exception as e:\n",
    "        print(f\"unexpected error creating fdp entity. {e}\")\n",
    "\n",
    "\n",
    "def create_fdp_dataset(dataset_id, graph, parent_id):\n",
    "    # print(str(fdp_catalog_isPartOf) + '/catalog/' + str(parent_id))\n",
    "    dataset_URI = rdflib.URIRef(dataset_id)\n",
    "    isPartOf = rdflib.URIRef(str(fdp_catalog_isPartOf) + '/catalog/' + str(parent_id))\n",
    "    graph = add_isPartOf(graph, dataset_URI, isPartOf)\n",
    "    try:\n",
    "        return fdpclient.create(type='dataset', data=graph.serialize())\n",
    "    except Exception as e:\n",
    "        print(f\"unexpected error creating fdp entity. {e}\")\n",
    "\n",
    "def create_fdp_distribution(distribution_id, graph, parent_id):\n",
    "    distribution_URI = rdflib.URIRef(distribution_id)\n",
    "    isPartOf = rdflib.URIRef(str(fdp_catalog_isPartOf) + '/dataset/' + str(parent_id))\n",
    "    graph = add_isPartOf(graph, distribution_URI, isPartOf)\n",
    "    try:\n",
    "        return fdpclient.create(type='distribution', data=graph.serialize())\n",
    "    except Exception as e:\n",
    "        print(f\"unexpected error creating fdp entity. {e}\")"
   ]
  },
  {
   "cell_type": "markdown",
   "id": "6c8f9efc-b7d1-44a1-98ab-6517bc22769e",
   "metadata": {},
   "source": [
    "## Get the API clients/connectors"
   ]
  },
  {
   "cell_type": "code",
   "execution_count": 63,
   "id": "11a441a4-471a-4e13-bece-6abceae74e5d",
   "metadata": {},
   "outputs": [],
   "source": [
    "# init clients\n",
    "# FDP\n",
    "fdpclient = FDPClient(fdp_baseurl, api_token=fdp_api_key, publicurl=fdp_catalog_isPartOf)\n",
    "# MOLGENIS\n",
    "mg_session = mg.Session(molgenis_api_base_url)\n",
    "mg_session.login(molgenis_user, molgenis_pswd)"
   ]
  },
  {
   "cell_type": "markdown",
   "id": "65c6a827",
   "metadata": {},
   "source": [
    "## Set Index FDP"
   ]
  },
  {
   "cell_type": "code",
   "execution_count": null,
   "id": "bcc2a3f9",
   "metadata": {},
   "outputs": [],
   "source": [
    "fdp_ping={\"metadataMetrics\":[\n",
    "    {\n",
    "        \"metricUri\":\"https://purl.org/fair-metrics/FM_F1A\",\n",
    "        \"resourceUri\":\"https://www.ietf.org/rfc/rfc3986.txt\"\n",
    "        },\n",
    "        {\n",
    "            \"metricUri\":\"https://purl.org/fair-metrics/FM_A1.1\",\n",
    "            \"resourceUri\":\"https://www.wikidata.org/wiki/Q8777\"}\n",
    "            ],\n",
    "            \"ping\":{\n",
    "                \"enabled\":True,\n",
    "                \"endpoints\":[\"http://bibbox-sys-commander-master-fdp-client\"],\n",
    "                \"interval\":60000}\n",
    "                }\n",
    "\n",
    "\n",
    "fdpclient.update(type='settings',data=json.dumps(fdp_ping),format=\"json-ld\")\n",
    "#json.dumps(fdp_ping)"
   ]
  },
  {
   "cell_type": "markdown",
   "id": "4081c24c-2f40-46d9-8fba-3bee59c6137a",
   "metadata": {},
   "source": [
    "## Get all Catalogs from Molgenis"
   ]
  },
  {
   "cell_type": "code",
   "execution_count": 64,
   "id": "4913d270-71ab-4b96-9a76-fdef98dfd63c",
   "metadata": {},
   "outputs": [],
   "source": [
    "catalogs = mg_session.get(molgenis_fdp_package_catalog)\n",
    "# print(catalogs)"
   ]
  },
  {
   "cell_type": "markdown",
   "id": "6417bf2f-7cf9-42c1-b6af-bf8a22ada20b",
   "metadata": {},
   "source": [
    "## Loop through Catalog ids and create catalogs, datasets and distribution in FDP"
   ]
  },
  {
   "cell_type": "code",
   "execution_count": 65,
   "id": "1492c99d-931e-4d07-8732-637c48181049",
   "metadata": {},
   "outputs": [
    {
     "name": "stdout",
     "output_type": "stream",
     "text": [
      "Catalog IDs: ['05c0efc4-a63d-49d6-be0c-080d298b1ffb']\n",
      "Dataset IDs: ['79de4c18-9008-4583-875d-6b090f417048', '5a09f183-8cf3-40dd-921c-2b4c4993c22b']\n",
      "Distribution IDs: ['f114a07b-c5c4-4be5-805e-dc638b5b26a7']\n"
     ]
    }
   ],
   "source": [
    "    # TODO PN (store IDs in array or dict to later publish everything; alternatively)\n",
    "    fdp_catalog_ids = []\n",
    "    fdp_dataset_ids = []\n",
    "    fdp_distribution_ids = []\n",
    "    \n",
    "    \n",
    "    for catalog in catalogs:\n",
    "        catalog_molgenis_fdp_id = molgenis_fdp_base_url + molgenis_fdp_package_catalog + '/' + catalog['identifier']\n",
    "        g = get_entity_from_molgenis_fdp(catalog_molgenis_fdp_id)\n",
    "        fdp_catalog_id = create_fdp_catalog(catalog_molgenis_fdp_id, g)\n",
    "        fdp_catalog_ids.append(fdp_catalog_id)\n",
    "        #print(f'fdp_catalog_id: {fdp_catalog_id}')\n",
    "        \n",
    "        # Dataset\n",
    "        for ds in catalog['dataset']:\n",
    "            dataset = mg_session.get_by_id(molgenis_fdp_package_dataset, ds['identifier'])\n",
    "            dataset_molgenis_fdp_id = molgenis_fdp_base_url + molgenis_fdp_package_dataset + '/' + dataset['identifier']\n",
    "            g = get_entity_from_molgenis_fdp(dataset_molgenis_fdp_id)\n",
    "            fdp_dataset_id = create_fdp_dataset(dataset_molgenis_fdp_id, g, fdp_catalog_id)\n",
    "            fdp_dataset_ids.append(fdp_dataset_id)\n",
    "            #print(f'fdp_dataset_id: {fdp_dataset_id}')\n",
    "\n",
    "            # Distribution\n",
    "            for dis in dataset['distribution']:\n",
    "                distribution = mg_session.get_by_id(molgenis_fdp_package_distribution, dis['identifier'])\n",
    "                distribution_molgenis_fdp_id = molgenis_fdp_base_url + molgenis_fdp_package_distribution + '/' + distribution['identifier']\n",
    "                g = get_entity_from_molgenis_fdp(distribution_molgenis_fdp_id)\n",
    "                fdp_distribution_id = create_fdp_distribution(distribution_molgenis_fdp_id, g, fdp_dataset_id)\n",
    "                fdp_distribution_ids.append(fdp_distribution_id)\n",
    "                # print(f'fdp_distribution_id: {fdp_distribution_id}')\n",
    "                \n",
    "    print(f'Catalog IDs: {fdp_catalog_ids}')\n",
    "    print(f'Dataset IDs: {fdp_dataset_ids}')\n",
    "    print(f'Distribution IDs: {fdp_distribution_ids}')"
   ]
  },
  {
   "cell_type": "markdown",
   "id": "78b4bb2f-e3e8-435d-8575-df1d611c63b4",
   "metadata": {},
   "source": [
    "## Publish everything"
   ]
  },
  {
   "cell_type": "code",
   "execution_count": 72,
   "id": "3355723b-65c4-4d68-be2d-7600ee91bb16",
   "metadata": {},
   "outputs": [
    {
     "name": "stdout",
     "output_type": "stream",
     "text": [
      "HTTP error: 400  for http://bibbox-molgenis-fair-fdp-client:80/catalog/05c0efc4-a63d-49d6-be0c-080d298b1ffb/meta/state \n",
      "Response message: Metadata is already published\n"
     ]
    },
    {
     "ename": "RuntimeError",
     "evalue": "No active exception to reraise",
     "output_type": "error",
     "traceback": [
      "\u001b[0;31m---------------------------------------------------------------------------\u001b[0m",
      "\u001b[0;31mRuntimeError\u001b[0m                              Traceback (most recent call last)",
      "Input \u001b[0;32mIn [72]\u001b[0m, in \u001b[0;36m<cell line: 4>\u001b[0;34m()\u001b[0m\n\u001b[1;32m      2\u001b[0m state_published\u001b[38;5;241m=\u001b[39mjson\u001b[38;5;241m.\u001b[39mdumps({\u001b[38;5;124m\"\u001b[39m\u001b[38;5;124mcurrent\u001b[39m\u001b[38;5;124m\"\u001b[39m:\u001b[38;5;124m\"\u001b[39m\u001b[38;5;124mPUBLISHED\u001b[39m\u001b[38;5;124m\"\u001b[39m})\n\u001b[1;32m      4\u001b[0m \u001b[38;5;28;01mfor\u001b[39;00m catalog_id \u001b[38;5;129;01min\u001b[39;00m fdp_catalog_ids:\n\u001b[0;32m----> 5\u001b[0m     \u001b[43mfdpclient\u001b[49m\u001b[38;5;241;43m.\u001b[39;49m\u001b[43mupdate\u001b[49m\u001b[43m(\u001b[49m\u001b[38;5;28;43mtype\u001b[39;49m\u001b[38;5;241;43m=\u001b[39;49m\u001b[38;5;124;43m'\u001b[39;49m\u001b[38;5;124;43mcatalog\u001b[39;49m\u001b[38;5;124;43m'\u001b[39;49m\u001b[43m,\u001b[49m\u001b[38;5;28;43mid\u001b[39;49m\u001b[38;5;241;43m=\u001b[39;49m\u001b[43mcatalog_id\u001b[49m\u001b[43m,\u001b[49m\u001b[43msubtype\u001b[49m\u001b[38;5;241;43m=\u001b[39;49m\u001b[38;5;124;43m'\u001b[39;49m\u001b[38;5;124;43mmeta/state\u001b[39;49m\u001b[38;5;124;43m'\u001b[39;49m\u001b[43m,\u001b[49m\u001b[43mdata\u001b[49m\u001b[38;5;241;43m=\u001b[39;49m\u001b[43mstate_published\u001b[49m\u001b[43m,\u001b[49m\u001b[38;5;28;43mformat\u001b[39;49m\u001b[38;5;241;43m=\u001b[39;49m\u001b[38;5;124;43m\"\u001b[39;49m\u001b[38;5;124;43mjson-ld\u001b[39;49m\u001b[38;5;124;43m\"\u001b[39;49m\u001b[43m)\u001b[49m\n\u001b[1;32m      6\u001b[0m \u001b[38;5;28;01mfor\u001b[39;00m dataset_id \u001b[38;5;129;01min\u001b[39;00m fdp_dataset_ids:\n\u001b[1;32m      7\u001b[0m     fdpclient\u001b[38;5;241m.\u001b[39mupdate(\u001b[38;5;28mtype\u001b[39m\u001b[38;5;241m=\u001b[39m\u001b[38;5;124m'\u001b[39m\u001b[38;5;124mdataset\u001b[39m\u001b[38;5;124m'\u001b[39m,\u001b[38;5;28mid\u001b[39m\u001b[38;5;241m=\u001b[39mdataset_id,subtype\u001b[38;5;241m=\u001b[39m\u001b[38;5;124m'\u001b[39m\u001b[38;5;124mmeta/state\u001b[39m\u001b[38;5;124m'\u001b[39m,data\u001b[38;5;241m=\u001b[39mstate_published,\u001b[38;5;28mformat\u001b[39m\u001b[38;5;241m=\u001b[39m\u001b[38;5;124m\"\u001b[39m\u001b[38;5;124mjson-ld\u001b[39m\u001b[38;5;124m\"\u001b[39m)\n",
      "File \u001b[0;32m/opt/conda/lib/python3.9/site-packages/fdpAPIconnector/fdpclient.py:193\u001b[0m, in \u001b[0;36mupdate\u001b[0;34m(self, type, id, subtype, data, format, **kwargs)\u001b[0m\n\u001b[1;32m    189\u001b[0m             \u001b[38;5;28mprint\u001b[39m(\u001b[38;5;124mf\u001b[39m\u001b[38;5;124m'\u001b[39m\u001b[38;5;124mHTTP error: \u001b[39m\u001b[38;5;132;01m{\u001b[39;00mr\u001b[38;5;241m.\u001b[39mstatus_code\u001b[38;5;132;01m}\u001b[39;00m\u001b[38;5;124m \u001b[39m\u001b[38;5;132;01m{\u001b[39;00mr\u001b[38;5;241m.\u001b[39mreason\u001b[38;5;132;01m}\u001b[39;00m\u001b[38;5;124m for \u001b[39m\u001b[38;5;132;01m{\u001b[39;00murl\u001b[38;5;132;01m}\u001b[39;00m\u001b[38;5;124m'\u001b[39m,\n\u001b[1;32m    190\u001b[0m                   \u001b[38;5;124mf\u001b[39m\u001b[38;5;124m'\u001b[39m\u001b[38;5;130;01m\\n\u001b[39;00m\u001b[38;5;124mResponse message: \u001b[39m\u001b[38;5;132;01m{\u001b[39;00mr\u001b[38;5;241m.\u001b[39mtext\u001b[38;5;132;01m}\u001b[39;00m\u001b[38;5;124m'\u001b[39m)\n\u001b[1;32m    191\u001b[0m             \u001b[38;5;28;01mraise\u001b[39;00m\n\u001b[0;32m--> 193\u001b[0m \u001b[38;5;28;01mdef\u001b[39;00m \u001b[38;5;21m_convertRDFGraphtoString\u001b[39m(\u001b[38;5;28mself\u001b[39m, data, \u001b[38;5;28mformat\u001b[39m):\n\u001b[1;32m    194\u001b[0m     \u001b[38;5;124;03m\"\"\"\u001b[39;00m\n\u001b[1;32m    195\u001b[0m \u001b[38;5;124;03m    convert a rdflibGraph in string of format <format>\u001b[39;00m\n\u001b[1;32m    196\u001b[0m \u001b[38;5;124;03m    :param data: string or rdflib.Graph\u001b[39;00m\n\u001b[1;32m    197\u001b[0m \u001b[38;5;124;03m    :param format: format of data (e.g. turtle)\u001b[39;00m\n\u001b[1;32m    198\u001b[0m \u001b[38;5;124;03m    :return: string in <format>\u001b[39;00m\n\u001b[1;32m    199\u001b[0m \u001b[38;5;124;03m    \"\"\"\u001b[39;00m\n\u001b[1;32m    200\u001b[0m     \u001b[38;5;28;01mif\u001b[39;00m \u001b[38;5;28misinstance\u001b[39m(data, rdflib\u001b[38;5;241m.\u001b[39mGraph):\n",
      "\u001b[0;31mRuntimeError\u001b[0m: No active exception to reraise"
     ]
    }
   ],
   "source": [
    "# for loops publish stored ids\n",
    "state_published=json.dumps({\"current\":\"PUBLISHED\"})\n",
    "\n",
    "for catalog_id in fdp_catalog_ids:\n",
    "    fdpclient.update(type='catalog',id=catalog_id,subtype='meta/state',data=state_published,format=\"json-ld\")\n",
    "for dataset_id in fdp_dataset_ids:\n",
    "    fdpclient.update(type='dataset',id=dataset_id,subtype='meta/state',data=state_published,format=\"json-ld\")\n",
    "for distribution_id in fdp_distribution_ids:\n",
    "    fdpclient.update(type='distribution',id=distribution_id,subtype='meta/state',data=state_published,format=\"json-ld\")\n",
    "    \n",
    "print('Done')"
   ]
  }
 ],
 "metadata": {
  "kernelspec": {
   "display_name": "Python 3 (ipykernel)",
   "language": "python",
   "name": "python3"
  },
  "language_info": {
   "codemirror_mode": {
    "name": "ipython",
    "version": 3
   },
   "file_extension": ".py",
   "mimetype": "text/x-python",
   "name": "python",
   "nbconvert_exporter": "python",
   "pygments_lexer": "ipython3",
   "version": "3.8.10"
  }
 },
 "nbformat": 4,
 "nbformat_minor": 5
}
